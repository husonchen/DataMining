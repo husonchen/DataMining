{
 "cells": [
  {
   "cell_type": "code",
   "execution_count": 4,
   "metadata": {
    "collapsed": true
   },
   "outputs": [],
   "source": [
    "import numpy as np\n",
    "from scipy.spatial.distance import *"
   ]
  },
  {
   "cell_type": "code",
   "execution_count": 94,
   "metadata": {
    "collapsed": false
   },
   "outputs": [],
   "source": [
    "points = array([[0,0],[1,0],[1,1],[9,0],[0,1],[10,0]])\n",
    "distMarix = pdist(points, 'euclidean')\n",
    "distMarix = squareform(distMarix);"
   ]
  },
  {
   "cell_type": "code",
   "execution_count": 84,
   "metadata": {
    "collapsed": false
   },
   "outputs": [
    {
     "data": {
      "text/plain": [
       "[[1, 2, 4], [0, 2, 4], [0, 1, 4], [1, 2, 5], [0, 1, 2], [1, 2, 3]]"
      ]
     },
     "execution_count": 84,
     "metadata": {},
     "output_type": "execute_result"
    }
   ],
   "source": [
    "k = 3\n",
    "knn_index = np.argsort(distMarix)[:,0:k+1][:,-1:].ravel()\n",
    "dist_k_o = distMarix[np.arange(len(distMarix)),knn_index]\n",
    "k_dist_Neig = []\n",
    "for i in range(len(points)):\n",
    "    kdn = np.nonzero(distMarix[i,:] <= dist_k_o[i])[0]\n",
    "    small_list = kdn.tolist()\n",
    "    small_list.remove(i)\n",
    "    k_dist_Neig.append(small_list)\n",
    "k_dist_Neig    "
   ]
  },
  {
   "cell_type": "code",
   "execution_count": 85,
   "metadata": {
    "collapsed": true
   },
   "outputs": [],
   "source": [
    "def reachDist(a,b):\n",
    "    distka = dist_k_o[a]\n",
    "    return max(distka,distMarix[a,b])"
   ]
  },
  {
   "cell_type": "code",
   "execution_count": 86,
   "metadata": {
    "collapsed": false
   },
   "outputs": [
    {
     "data": {
      "text/plain": [
       "[0.70710678118654746,\n",
       " 0.70710678118654746,\n",
       " 0.70710678118654746,\n",
       " 0.11943795895036236,\n",
       " 0.70710678118654746,\n",
       " 0.11486488321494093]"
      ]
     },
     "execution_count": 86,
     "metadata": {},
     "output_type": "execute_result"
    }
   ],
   "source": [
    "lrdk_o = []\n",
    "for k in range(len(points)):\n",
    "    Nko = k_dist_Neig[k]\n",
    "    sum_reach_dist = 0\n",
    "    for i in Nko:\n",
    "        reach_dist_k_i = reachDist(i,k)\n",
    "        sum_reach_dist = sum_reach_dist +  reach_dist_k_i\n",
    "    lrdk_o.append(len(Nko)/sum_reach_dist)\n",
    "lrdk_o"
   ]
  },
  {
   "cell_type": "code",
   "execution_count": 90,
   "metadata": {
    "collapsed": false
   },
   "outputs": [],
   "source": [
    "def lof_k_o(a):\n",
    "    b = k_dist_Neig[a]\n",
    "    sum1 = sum([lrdk_o[i] for i in b])\n",
    "    sum2 = 0\n",
    "    for i in b:\n",
    "        reach_dist_k_i = reachDist(i,a)\n",
    "        sum2  = sum2 + reach_dist_k_i\n",
    "    return (sum1 + sum2)/len(b)"
   ]
  },
  {
   "cell_type": "code",
   "execution_count": 91,
   "metadata": {
    "collapsed": false
   },
   "outputs": [
    {
     "data": {
      "text/plain": [
       "[2.1213203435596424,\n",
       " 2.1213203435596424,\n",
       " 2.1213203435596424,\n",
       " 8.8822404440079996,\n",
       " 2.1213203435596424,\n",
       " 9.217098135919807]"
      ]
     },
     "execution_count": 91,
     "metadata": {},
     "output_type": "execute_result"
    }
   ],
   "source": [
    "lof_val = []\n",
    "for i in range(len(points)):\n",
    "    lof_val.append(lof_k_o(i))\n",
    "lof_val"
   ]
  },
  {
   "cell_type": "code",
   "execution_count": 93,
   "metadata": {
    "collapsed": false
   },
   "outputs": [
    {
     "data": {
      "image/png": "[encoded data removed]",
      "text/plain": [
       "<matplotlib.figure.Figure at 0x2783c751438>"
      ]
     },
     "metadata": {},
     "output_type": "display_data"
    }
   ],
   "source": [
    "import matplotlib\n",
    "import matplotlib.pyplot as plt\n",
    "%matplotlib inline\n",
    "color = np.zeros(len(points))\n",
    "max_value = max(lof_val)\n",
    "max_index = lof_val.index(max_value)\n",
    "color[max_index] = 1\n",
    "plt.scatter(points[:,0],points[:,1],c = color)\n",
    "plt.show()"
   ]
  },
  {
   "cell_type": "code",
   "execution_count": null,
   "metadata": {
    "collapsed": true
   },
   "outputs": [],
   "source": []
  }
 ],
 "metadata": {
  "kernelspec": {
   "display_name": "Python [conda root]",
   "language": "python",
   "name": "conda-root-py"
  },
  "language_info": {
   "codemirror_mode": {
    "name": "ipython",
    "version": 3
   },
   "file_extension": ".py",
   "mimetype": "text/x-python",
   "name": "python",
   "nbconvert_exporter": "python",
   "pygments_lexer": "ipython3",
   "version": "3.5.2"
  }
 },
 "nbformat": 4,
 "nbformat_minor": 0
}
