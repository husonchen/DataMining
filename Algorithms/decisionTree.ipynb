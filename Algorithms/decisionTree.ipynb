{
 "cells": [
  {
   "cell_type": "code",
   "execution_count": 19,
   "metadata": {
    "collapsed": false
   },
   "outputs": [],
   "source": [
    "from numpy import *\n",
    "trainData = array([\n",
    "    [1,1,2,1,3,1],\n",
    "    [4,3,4,3,1,2],\n",
    "    [3,2,4,3,2,2],\n",
    "    [1,3,1,2,2,3],\n",
    "    [4,4,3,1,1,1],\n",
    "    [1,4,2,1,1,1],\n",
    "    [2,1,3,2,1,3],\n",
    "    [3,4,3,2,1,2],\n",
    "    [3,4,4,2,3,1],\n",
    "    [2,3,2,2,2,3],\n",
    "    [2,4,4,3,1,3],\n",
    "    [3,1,1,1,3,1],\n",
    "    [2,2,2,2,2,3],\n",
    "    [3,3,2,3,3,3],\n",
    "    [1,3,1,2,2,2],\n",
    "    [2,2,2,3,1,2],\n",
    "    [4,1,1,2,1,1],\n",
    "    [1,4,1,3,3,3],\n",
    "    [4,4,1,2,3,3],\n",
    "    [1,2,3,3,2,3]\n",
    "])\n",
    "trainlabel = array([0,1,1,1,0,0,0,1,0,1,1,0,1,1,0,0,0,1,1,0])\n",
    "def InfoCal(p):\n",
    "    if p == 0 :\n",
    "        return 1\n",
    "    return -p*log2(p)\n"
   ]
  },
  {
   "cell_type": "code",
   "execution_count": 24,
   "metadata": {
    "collapsed": false
   },
   "outputs": [
    {
     "data": {
      "text/plain": [
       "array([ 0.03903595,  0.07468813,  0.07548875,  0.05192357,  0.04273765,\n",
       "        0.11337032])"
      ]
     },
     "execution_count": 24,
     "metadata": {},
     "output_type": "execute_result"
    }
   ],
   "source": [
    "p1 = len([x for x in trainlabel if x == 1]) / 20\n",
    "p2 = 1 - p1\n",
    "infoT = InfoCal(p1) + InfoCal(p2)\n",
    "infoCategory = zeros(6)\n",
    "# calculate different attribute info gain\n",
    "for i in range(0,6):\n",
    "    categoryNum = trainData[:,i].max()\n",
    "    infosum = 0.0\n",
    "    for j in range(1,categoryNum+1):\n",
    "        acc = 0.0\n",
    "        unacc = 0.0\n",
    "        for p in range(20):\n",
    "            if trainData[p,i] == j :\n",
    "                if trainlabel[p] == 1 :\n",
    "                    acc += 1\n",
    "                else :\n",
    "                    unacc += 1\n",
    "        if acc + unacc == 0:\n",
    "            print(str(i)+str(j))\n",
    "            continue\n",
    "        infoacc = InfoCal(acc / (acc + unacc))\n",
    "        infounacc = InfoCal(unacc / (acc + unacc))\n",
    "        infosum += (infoacc + infounacc)* (acc + unacc)/ 20\n",
    "    infoCategory[i] = infosum\n",
    "\n",
    "infoGain = infoT - infoCategory\n",
    "infoGain"
   ]
  },
  {
   "cell_type": "code",
   "execution_count": null,
   "metadata": {
    "collapsed": true
   },
   "outputs": [],
   "source": []
  }
 ],
 "metadata": {
  "kernelspec": {
   "display_name": "Python [Root]",
   "language": "python",
   "name": "Python [Root]"
  },
  "language_info": {
   "codemirror_mode": {
    "name": "ipython",
    "version": 3
   },
   "file_extension": ".py",
   "mimetype": "text/x-python",
   "name": "python",
   "nbconvert_exporter": "python",
   "pygments_lexer": "ipython3",
   "version": "3.5.2"
  }
 },
 "nbformat": 4,
 "nbformat_minor": 0
}
