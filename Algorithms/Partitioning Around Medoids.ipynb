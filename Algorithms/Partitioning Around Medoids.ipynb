{
 "cells": [
  {
   "cell_type": "code",
   "execution_count": 1,
   "metadata": {
    "collapsed": true
   },
   "outputs": [],
   "source": [
    "from numpy import *"
   ]
  },
  {
   "cell_type": "code",
   "execution_count": 19,
   "metadata": {
    "collapsed": false
   },
   "outputs": [],
   "source": [
    "def cost(m,c):\n",
    "    # compute two distance ,row is data, coloum is for medoid\n",
    "    distanceMatrix = zeros((m.shape[0],c.shape[0]))\n",
    "    for i in range(c.shape[0]):\n",
    "        distanceMatrix[:,i] = sum(abs(m - c[i,:]),axis= 1)\n",
    "    costMatrix = amin(distanceMatrix,axis = 1)\n",
    "#     print(costMatrix)\n",
    "    return costMatrix"
   ]
  },
  {
   "cell_type": "code",
   "execution_count": 49,
   "metadata": {
    "collapsed": false
   },
   "outputs": [
    {
     "name": "stdout",
     "output_type": "stream",
     "text": [
      "[0 4]\n",
      "[[0 0]\n",
      " [4 2]]\n",
      "[ 0.  1.  2.  2.  0.]\n"
     ]
    },
    {
     "data": {
      "text/plain": [
       "5.0"
      ]
     },
     "execution_count": 49,
     "metadata": {},
     "output_type": "execute_result"
    }
   ],
   "source": [
    "trainData = array([[0,0],[0,1],[2,2],[3,3],[4,2]])\n",
    "# random choise 2 medoids to initialize\n",
    "idx = random.randint(5, size=2)\n",
    "print(idx)\n",
    "medoids = trainData[idx,:]\n",
    "print(medoids)\n",
    "print(cost(trainData,medoids))\n",
    "costall = sum(cost(trainData,medoids))\n",
    "costall"
   ]
  },
  {
   "cell_type": "code",
   "execution_count": 48,
   "metadata": {
    "collapsed": false
   },
   "outputs": [
    {
     "name": "stdout",
     "output_type": "stream",
     "text": [
      "[[0 0]\n",
      " [3 3]]\n",
      "[ 0.  1.  2.  0.  2.]\n",
      "13.0\n",
      "change\n",
      "[[2 2]\n",
      " [3 3]]\n",
      "[ 4.  3.  0.  0.  2.]\n",
      "5.0\n",
      "undo change\n",
      "[[2 2]\n",
      " [0 0]]\n",
      "[ 0.  1.  0.  2.  2.]\n",
      "5.0\n",
      "undo change\n",
      "[[2 2]\n",
      " [3 3]]\n",
      "[ 4.  3.  0.  0.  2.]\n",
      "5.0\n",
      "undo change\n",
      "[[0 0]\n",
      " [3 3]]\n",
      "[ 0.  1.  2.  0.  2.]\n",
      "5.0\n",
      "undo change\n",
      "[[2 2]\n",
      " [3 3]]\n",
      "[ 4.  3.  0.  0.  2.]\n",
      "5.0\n",
      "undo change\n",
      "[[2 2]\n",
      " [0 0]]\n",
      "[ 0.  1.  0.  2.  2.]\n",
      "5.0\n",
      "undo change\n",
      "[[2 2]\n",
      " [3 3]]\n",
      "[ 4.  3.  0.  0.  2.]\n",
      "5.0\n",
      "undo change\n",
      "5.0\n",
      "[[2 2]\n",
      " [3 3]]\n"
     ]
    }
   ],
   "source": [
    "while True:\n",
    "    isStable = True\n",
    "    for m in range(medoids.shape[0]):\n",
    "        for t in range(trainData.shape[0]):\n",
    "    #         only consider non-medoid\n",
    "            if trainData[t,:] not in medoids:\n",
    "                # switch medoid\n",
    "                nowMedoid = medoids[m,:]\n",
    "                medoids[m,:] = trainData[t,:]\n",
    "                coatall_tmp = sum(cost(trainData,medoids))\n",
    "                print(medoids)\n",
    "                print(cost(trainData,medoids))\n",
    "                print(costall)\n",
    "                if coatall_tmp < costall :\n",
    "                    # it is a good exchange\n",
    "                    costall = coatall_tmp\n",
    "                    isStable = False\n",
    "                    print(\"change\")\n",
    "                else :\n",
    "                    # is not a good exchange ,now exchange it back\n",
    "                    medoids[m,:] = nowMedoid\n",
    "                    print(\"undo change\")\n",
    "    if isStable :\n",
    "        break\n",
    "\n",
    "print(costall)\n",
    "print(medoids)"
   ]
  },
  {
   "cell_type": "code",
   "execution_count": null,
   "metadata": {
    "collapsed": true
   },
   "outputs": [],
   "source": []
  },
  {
   "cell_type": "code",
   "execution_count": null,
   "metadata": {
    "collapsed": true
   },
   "outputs": [],
   "source": []
  },
  {
   "cell_type": "code",
   "execution_count": null,
   "metadata": {
    "collapsed": true
   },
   "outputs": [],
   "source": []
  }
 ],
 "metadata": {
  "kernelspec": {
   "display_name": "Python [conda root]",
   "language": "python",
   "name": "conda-root-py"
  },
  "language_info": {
   "codemirror_mode": {
    "name": "ipython",
    "version": 3
   },
   "file_extension": ".py",
   "mimetype": "text/x-python",
   "name": "python",
   "nbconvert_exporter": "python",
   "pygments_lexer": "ipython3",
   "version": "3.5.2"
  }
 },
 "nbformat": 4,
 "nbformat_minor": 0
}
