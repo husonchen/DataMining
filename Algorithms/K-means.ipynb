{
 "cells": [
  {
   "cell_type": "code",
   "execution_count": 16,
   "metadata": {
    "collapsed": true
   },
   "outputs": [],
   "source": [
    "from numpy import *"
   ]
  },
  {
   "cell_type": "code",
   "execution_count": 17,
   "metadata": {
    "collapsed": true
   },
   "outputs": [],
   "source": [
    "def distanceForMeans(m , c):\n",
    "    # compute two distance ,row is data, coloum is for medoid\n",
    "    distanceMatrix = zeros((m.shape[0],c.shape[0]))\n",
    "    for i in range(c.shape[0]):\n",
    "        distanceMatrix[:,i] = sum(abs(m - c[i,:]),axis= 1)\n",
    "    return distanceMatrix"
   ]
  },
  {
   "cell_type": "code",
   "execution_count": 22,
   "metadata": {
    "collapsed": false
   },
   "outputs": [
    {
     "name": "stdout",
     "output_type": "stream",
     "text": [
      "[  4.25  18.25]\n",
      "[ 14.5  10.5]\n",
      "[  4.25  18.25]\n",
      "[ 14.5  10.5]\n",
      "[[  4.25  18.25]\n",
      " [ 14.5   10.5 ]]\n"
     ]
    }
   ],
   "source": [
    "trainData = array([[15,10],[3,19],[15,12],[3,15],[18,13],[1,9],[10,7],[10,30]],dtype=float)\n",
    "k = 2\n",
    "means = array([[3,15],[15,10]],dtype=float)\n",
    "\n",
    "times = 100\n",
    "while True:\n",
    "    times = times - 1\n",
    "    if times == 0:\n",
    "        break\n",
    "    isStable = True;\n",
    "    for m in range(means.shape[0]):\n",
    "        dist = distanceForMeans(trainData,means)\n",
    "#         print(dist)\n",
    "        data_belong = argmin(dist, axis=1)\n",
    "#         print(data_belong)\n",
    "        cluster_point = trainData[nonzero(data_belong==m),:][0]\n",
    "    #     print(cluster_point)\n",
    "        central = sum(cluster_point,axis = 0)/ cluster_point.shape[0]\n",
    "#         print(means[m,:])\n",
    "        print(central)\n",
    "        if array_equal(central,means[m,:]) is False:\n",
    "            isStable = False\n",
    "            means[m,:] = central\n",
    "    if isStable :\n",
    "        break\n",
    "\n",
    "print(means)"
   ]
  },
  {
   "cell_type": "code",
   "execution_count": null,
   "metadata": {
    "collapsed": true
   },
   "outputs": [],
   "source": []
  }
 ],
 "metadata": {
  "anaconda-cloud": {},
  "kernelspec": {
   "display_name": "Python [conda root]",
   "language": "python",
   "name": "conda-root-py"
  },
  "language_info": {
   "codemirror_mode": {
    "name": "ipython",
    "version": 3
   },
   "file_extension": ".py",
   "mimetype": "text/x-python",
   "name": "python",
   "nbconvert_exporter": "python",
   "pygments_lexer": "ipython3",
   "version": "3.5.2"
  }
 },
 "nbformat": 4,
 "nbformat_minor": 0
}
