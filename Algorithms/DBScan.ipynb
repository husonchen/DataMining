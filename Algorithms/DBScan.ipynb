{
 "cells": [
  {
   "cell_type": "code",
   "execution_count": 127,
   "metadata": {
    "collapsed": false
   },
   "outputs": [],
   "source": [
    "import numpy as np\n",
    "import matplotlib\n",
    "import matplotlib.pyplot as plt\n",
    "%matplotlib inline"
   ]
  },
  {
   "cell_type": "code",
   "execution_count": 128,
   "metadata": {
    "collapsed": false
   },
   "outputs": [],
   "source": [
    "def findAroundPoint(dataSet,p,eps):\n",
    "    euclideanDis = np.sqrt(np.sum(np.square(trainData - p),axis=1))\n",
    "    return np.nonzero(euclideanDis <= eps)[0]"
   ]
  },
  {
   "cell_type": "code",
   "execution_count": 129,
   "metadata": {
    "collapsed": false
   },
   "outputs": [
    {
     "name": "stdout",
     "output_type": "stream",
     "text": [
      "[0, 2, 3, 4, 5, 7]\n",
      "[]\n",
      "[1, 6]\n"
     ]
    }
   ],
   "source": [
    "trainData = array([[2,10],[2,5],[8,4],[5,8],[7,5],[6,4],[1,2],[4,9]],dtype=float)\n",
    "eps = 3\n",
    "minPts = 2\n",
    "corePoints = []\n",
    "for i in range(trainData.shape[0]):\n",
    "    p = trainData[i,:]\n",
    "    aroundPoint = findAroundPoint(trainData,p,eps)\n",
    "    if len(aroundPoint) >= minPts:\n",
    "        corePoints.append(i)\n",
    "print(corePoints)\n",
    "\n",
    "borderPoints = []\n",
    "noisePoints = []\n",
    "for i in range(trainData.shape[0]):\n",
    "    p = trainData[i,:]\n",
    "    aroundPoint = findAroundPoint(trainData,p,eps)\n",
    "    if len(aroundPoint) < minPts:\n",
    "        # around points have intersection with core point\n",
    "        if len(set(aroundPoint) & set(corePoints)) > 0:\n",
    "            borderPoints.append(i)\n",
    "        else:\n",
    "            noisePoints.append(i)\n",
    "print(borderPoints)\n",
    "print(noisePoints)"
   ]
  },
  {
   "cell_type": "code",
   "execution_count": 130,
   "metadata": {
    "collapsed": false
   },
   "outputs": [
    {
     "data": {
      "text/plain": [
       "[[2, 4, 5], [0, 3, 7]]"
      ]
     },
     "execution_count": 130,
     "metadata": {},
     "output_type": "execute_result"
    }
   ],
   "source": [
    "cluster = []\n",
    "unChosedPoint = set([0,1,2,3,4,5,6,7])\n",
    "number = 0\n",
    "while True:\n",
    "    if len(unChosedPoint) == 0:\n",
    "        break;\n",
    "    # arbitray select a point p\n",
    "    import random\n",
    "    number = random.sample(unChosedPoint, 1)[0]\n",
    "    p = trainData[number,:]\n",
    "    aroundPoint = findAroundPoint(trainData,p,eps).tolist()\n",
    "    # try to find density rechable\n",
    "    densReach = []\n",
    "    for ap in aroundPoint :\n",
    "        if ap == number:\n",
    "            continue\n",
    "        aroundPoint_ap = findAroundPoint(trainData,trainData[ap,:],eps).tolist()\n",
    "        densityReachP = (set(aroundPoint_ap) - set([number]) - set([ap]))  & set(corePoints)\n",
    "#         for i in densityReachP:\n",
    "#             densReach.append(i)\n",
    "        densReach = densReach + list(densityReachP)\n",
    "    aroundPoint = list(set(aroundPoint + densReach))\n",
    "    if number in corePoints:\n",
    "        #If pis a corepoint, a clusteris formed\n",
    "        cluster.append(aroundPoint)\n",
    "        unChosedPoint = unChosedPoint - set(aroundPoint)\n",
    "    else:\n",
    "        unChosedPoint = unChosedPoint - set([number])\n",
    "    number = number + 1\n",
    "cluster"
   ]
  },
  {
   "cell_type": "code",
   "execution_count": 131,
   "metadata": {
    "collapsed": false
   },
   "outputs": [
    {
     "name": "stdout",
     "output_type": "stream",
     "text": [
      "[ 2.  0.  1.  2.  1.  1.  0.  2.]\n"
     ]
    },
    {
     "data": {
      "image/png": "[encoded data removed]",
      "text/plain": [
       "<matplotlib.figure.Figure at 0x29c6074d400>"
      ]
     },
     "metadata": {},
     "output_type": "display_data"
    }
   ],
   "source": [
    "color = np.zeros(8)\n",
    "for i in range(len(cluster)):\n",
    "    for point in cluster[i]:\n",
    "        color[point] =  i + 1\n",
    "print(color)\n",
    "plt.scatter(trainData[:,0],trainData[:,1],c = color)\n",
    "plt.show()"
   ]
  },
  {
   "cell_type": "code",
   "execution_count": null,
   "metadata": {
    "collapsed": true
   },
   "outputs": [],
   "source": []
  },
  {
   "cell_type": "code",
   "execution_count": null,
   "metadata": {
    "collapsed": true
   },
   "outputs": [],
   "source": []
  },
  {
   "cell_type": "code",
   "execution_count": null,
   "metadata": {
    "collapsed": true
   },
   "outputs": [],
   "source": []
  }
 ],
 "metadata": {
  "kernelspec": {
   "display_name": "Python [conda root]",
   "language": "python",
   "name": "conda-root-py"
  },
  "language_info": {
   "codemirror_mode": {
    "name": "ipython",
    "version": 3
   },
   "file_extension": ".py",
   "mimetype": "text/x-python",
   "name": "python",
   "nbconvert_exporter": "python",
   "pygments_lexer": "ipython3",
   "version": "3.5.2"
  }
 },
 "nbformat": 4,
 "nbformat_minor": 0
}
