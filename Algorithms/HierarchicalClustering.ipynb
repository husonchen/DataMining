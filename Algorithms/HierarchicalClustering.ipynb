{
 "cells": [
  {
   "cell_type": "code",
   "execution_count": 3,
   "metadata": {
    "collapsed": true,
    "nbpresent": {
     "id": "64ac1760-0065-4e73-8bd1-78503343189b"
    }
   },
   "outputs": [],
   "source": [
    "import numpy as np;"
   ]
  },
  {
   "cell_type": "code",
   "execution_count": 4,
   "metadata": {
    "collapsed": false,
    "nbpresent": {
     "id": "273747b4-5a28-491d-b989-87e48e5df684"
    }
   },
   "outputs": [],
   "source": [
    "disMatrix = np.array([\n",
    "        [0,1.23,1.35,1.12,1.24],\n",
    "        [1.23,0,2.16,2.12,1.14],\n",
    "        [1.35,2.16,0,0.4,1.28],\n",
    "        [1.12,2.12,0.4,0,1.42],\n",
    "        [1.24,1.14,1.28,1.42,0]\n",
    "    ])"
   ]
  },
  {
   "cell_type": "code",
   "execution_count": 13,
   "metadata": {
    "collapsed": true,
    "nbpresent": {
     "id": "b67d7014-d5bb-4944-bda7-b0511ffd33a6"
    }
   },
   "outputs": [],
   "source": [
    "# cluster is a set of number\n",
    "def SingleDist(cluster1,cluster2):\n",
    "    min = 65535\n",
    "    for i in cluster1:\n",
    "        for j in cluster2:\n",
    "            if disMatrix[i-1,j-1] < min:\n",
    "                min = disMatrix[i-1,j-1]\n",
    "    return min\n",
    "\n",
    "def CompleteLink(cluster1,cluster2):\n",
    "    max = 0\n",
    "    for i in cluster1:\n",
    "        for j in cluster2:\n",
    "            if disMatrix[i-1,j-1] < max:\n",
    "                max = disMatrix[i-1,j-1]\n",
    "    return max\n",
    "\n",
    "def Average(cluster1,cluster2):\n",
    "    sum = 0\n",
    "    for i in cluster1:\n",
    "        for j in cluster2:\n",
    "            sum = sum + disMatrix[i-1,j-1]\n",
    "    return sum/(i*j)"
   ]
  },
  {
   "cell_type": "code",
   "execution_count": 27,
   "metadata": {
    "collapsed": false,
    "nbpresent": {
     "id": "83c71aee-4755-4116-8b60-6608c97d3b1d"
    }
   },
   "outputs": [
    {
     "name": "stdout",
     "output_type": "stream",
     "text": [
      "[[1], [2], [3], [4], [5]]\n",
      "merge:[3],[4]\n",
      "[[1], [2], [5], [3, 4]]\n",
      "merge:[2],[5]\n",
      "[[1], [3, 4], [2, 5]]\n",
      "merge:[3, 4],[2, 5]\n",
      "[[1], [3, 4, 2, 5]]\n",
      "merge:[1],[3, 4, 2, 5]\n",
      "[[1, 3, 4, 2, 5]]\n"
     ]
    }
   ],
   "source": [
    "# firstly,each point is a cluster\n",
    "clusterList = [[1],[2],[3],[4],[5]]\n",
    "print(clusterList)\n",
    "while True:\n",
    "    #select two cluster to merge\n",
    "    leastDissim = 65535\n",
    "    for i in clusterList:\n",
    "        for j in clusterList:\n",
    "            # don't merge itself\n",
    "            if i == j:\n",
    "                continue\n",
    "            dis = Average(i,j)\n",
    "            if dis < leastDissim:\n",
    "                leastI = i\n",
    "                leastJ = j\n",
    "                leastDissim = dis\n",
    "    #merge two\n",
    "    clusterList.remove(leastI)\n",
    "    clusterList.remove(leastJ)\n",
    "    print(\"merge:\"+str(leastI)+\",\"+str(leastJ))\n",
    "    clusterList.append(leastI+leastJ)\n",
    "    print(clusterList)\n",
    "    if len(clusterList) == 1:\n",
    "        break;"
   ]
  },
  {
   "cell_type": "code",
   "execution_count": null,
   "metadata": {
    "collapsed": true
   },
   "outputs": [],
   "source": []
  }
 ],
 "metadata": {
  "anaconda-cloud": {},
  "kernelspec": {
   "display_name": "Python [conda root]",
   "language": "python",
   "name": "conda-root-py"
  },
  "language_info": {
   "codemirror_mode": {
    "name": "ipython",
    "version": 3
   },
   "file_extension": ".py",
   "mimetype": "text/x-python",
   "name": "python",
   "nbconvert_exporter": "python",
   "pygments_lexer": "ipython3",
   "version": "3.5.2"
  }
 },
 "nbformat": 4,
 "nbformat_minor": 0
}
