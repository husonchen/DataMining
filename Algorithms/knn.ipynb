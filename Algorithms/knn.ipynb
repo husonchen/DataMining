{
 "cells": [
  {
   "cell_type": "code",
   "execution_count": 87,
   "metadata": {
    "collapsed": false
   },
   "outputs": [],
   "source": [
    "from numpy import *\n",
    "trainData = array([\n",
    "    [1,1,2,1,3,1],\n",
    "    [4,3,4,3,1,2],\n",
    "    [3,2,4,3,2,2],\n",
    "    [1,3,1,2,2,3],\n",
    "    [4,4,3,1,1,1],\n",
    "    [1,4,2,1,1,1],\n",
    "    [2,1,3,2,1,3],\n",
    "    [3,4,3,2,1,2],\n",
    "    [3,4,4,2,3,1],\n",
    "    [2,3,2,2,2,3]\n",
    "])\n",
    "\n",
    "testData = array([\n",
    "    [2,4,4,3,1,3],\n",
    "    [3,1,1,1,3,1],\n",
    "    [2,2,2,2,2,3],\n",
    "    [3,3,2,3,3,3],\n",
    "    [1,3,1,2,2,2],\n",
    "    [2,2,2,3,1,2],\n",
    "    [4,1,1,2,1,1],\n",
    "    [1,4,1,3,3,3],\n",
    "    [4,4,1,2,3,3],\n",
    "    [1,2,3,3,2,3]\n",
    "])\n",
    "\n",
    "trainlabel = array([0,1,1,1,0,0,0,1,0,1])\n",
    "testlabel  = array([1,0,1,1,0,0,0,1,1,0])\n",
    "\n",
    "k = 3"
   ]
  },
  {
   "cell_type": "code",
   "execution_count": null,
   "metadata": {
    "collapsed": true
   },
   "outputs": [],
   "source": [
    "testPredict = zeros(10)\n",
    "for i in range(0,10):\n",
    "    attrDistance = column_stack((abs(testData[i] - trainData).sum(axis= 1),trainlabel))\n",
    "    idex = lexsort([attrDistance[:,0]])\n",
    "    knn_sort=attrDistance[idex,:]\n",
    "    predict = (float)(knn_sort[0:k , 1].sum()) / k\n",
    "    if predict >= 0.5 :\n",
    "        predict = 1\n",
    "    else :\n",
    "        predict = 0\n",
    "    if predict == testlabel[i] :\n",
    "        testPredict[i] = 1\n",
    "\n",
    "testPredict\n",
    "    "
   ]
  },
  {
   "cell_type": "code",
   "execution_count": 75,
   "metadata": {
    "collapsed": false
   },
   "outputs": [
    {
     "data": {
      "text/plain": [
       "True"
      ]
     },
     "execution_count": 75,
     "metadata": {},
     "output_type": "execute_result"
    }
   ],
   "source": [
    "attrDistance = column_stack((abs(testData[0] - trainData).sum(axis= 1),trainlabel))\n",
    "idex = lexsort([attrDistance[:,0]])\n",
    "knn_sort=attrDistance[idex,:]\n",
    "predict = (float)(knn_sort[0:k , 1].sum())/k\n",
    "predict==testlabel[0]"
   ]
  },
  {
   "cell_type": "code",
   "execution_count": 71,
   "metadata": {
    "collapsed": false
   },
   "outputs": [
    {
     "data": {
      "text/plain": [
       "array([[ 4,  1],\n",
       "       [ 4,  1],\n",
       "       [ 5,  1],\n",
       "       [ 5,  0],\n",
       "       [ 5,  1],\n",
       "       [ 6,  0],\n",
       "       [ 7,  1],\n",
       "       [ 7,  0],\n",
       "       [ 7,  0],\n",
       "       [12,  0]])"
      ]
     },
     "execution_count": 71,
     "metadata": {},
     "output_type": "execute_result"
    }
   ],
   "source": [
    "idex = lexsort([attrDistance[:,0]])\n",
    "a_sort=attrDistance[idex,:]\n",
    "a_sort"
   ]
  },
  {
   "cell_type": "code",
   "execution_count": null,
   "metadata": {
    "collapsed": true
   },
   "outputs": [],
   "source": []
  }
 ],
 "metadata": {
  "anaconda-cloud": {},
  "kernelspec": {
   "display_name": "Python [conda root]",
   "language": "python",
   "name": "conda-root-py"
  },
  "language_info": {
   "codemirror_mode": {
    "name": "ipython",
    "version": 3
   },
   "file_extension": ".py",
   "mimetype": "text/x-python",
   "name": "python",
   "nbconvert_exporter": "python",
   "pygments_lexer": "ipython3",
   "version": "3.5.2"
  }
 },
 "nbformat": 4,
 "nbformat_minor": 0
}
